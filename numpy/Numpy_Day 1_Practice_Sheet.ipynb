{
 "cells": [
  {
   "cell_type": "markdown",
   "id": "7ec261cd-5121-4b29-a434-dcfe4678c47f",
   "metadata": {},
   "source": [
    "## Hands-on Exercises / Tasks"
   ]
  },
  {
   "cell_type": "markdown",
   "id": "a774d2df-a028-442f-ae46-0b5cfc43e888",
   "metadata": {},
   "source": [
    "#### Exercise 1:\n",
    "Create a 5×5 identity matrix."
   ]
  },
  {
   "cell_type": "code",
   "execution_count": 1,
   "id": "4215bbd7",
   "metadata": {},
   "outputs": [
    {
     "name": "stdout",
     "output_type": "stream",
     "text": [
      "[[1. 0. 0. 0. 0.]\n",
      " [0. 1. 0. 0. 0.]\n",
      " [0. 0. 1. 0. 0.]\n",
      " [0. 0. 0. 1. 0.]\n",
      " [0. 0. 0. 0. 1.]]\n"
     ]
    }
   ],
   "source": [
    "import numpy as np\n",
    "\n",
    "identity_matrix = np.eye(5)\n",
    "print(identity_matrix)"
   ]
  },
  {
   "cell_type": "markdown",
   "id": "e4425231-a656-47ac-8ee7-08c716c10159",
   "metadata": {},
   "source": [
    "#### Exercise 2:\n",
    "Generate random marks for 10 students in 3 subjects. Find average per student.\n"
   ]
  },
  {
   "cell_type": "code",
   "execution_count": 2,
   "id": "00236e92",
   "metadata": {},
   "outputs": [
    {
     "data": {
      "text/plain": [
       "(array([[ 9, 44, 42],\n",
       "        [64,  1, 57],\n",
       "        [88, 92, 51],\n",
       "        [70, 60, 91],\n",
       "        [79,  7, 83],\n",
       "        [60, 99, 83],\n",
       "        [44, 84, 17],\n",
       "        [34, 57, 39],\n",
       "        [58, 34, 53],\n",
       "        [27, 37, 37]], dtype=int32),\n",
       " array([31.66666667, 40.66666667, 77.        , 73.66666667, 56.33333333,\n",
       "        80.66666667, 48.33333333, 43.33333333, 48.33333333, 33.66666667]))"
      ]
     },
     "execution_count": 2,
     "metadata": {},
     "output_type": "execute_result"
    }
   ],
   "source": [
    "import numpy as np\n",
    "\n",
    "marks = np.random.randint(0, 101, (10, 3))\n",
    "average_per_student = np.mean(marks, axis=1)\n",
    "\n",
    "marks, average_per_student"
   ]
  },
  {
   "cell_type": "markdown",
   "id": "913e0286-569e-422c-b197-b7efada41254",
   "metadata": {},
   "source": [
    "#### Exercise 3:\n",
    "Convert temperatures [0, 10, 20, 30] °C to Fahrenheit using formula F = C * 9/5 + 32."
   ]
  },
  {
   "cell_type": "code",
   "execution_count": 3,
   "id": "94a1951f",
   "metadata": {},
   "outputs": [
    {
     "data": {
      "text/plain": [
       "array([32., 50., 68., 86.])"
      ]
     },
     "execution_count": 3,
     "metadata": {},
     "output_type": "execute_result"
    }
   ],
   "source": [
    "import numpy as np\n",
    "\n",
    "celsius = np.array([0, 10, 20, 30])\n",
    "fahrenheit = celsius * 9 / 5 + 32\n",
    "\n",
    "fahrenheit"
   ]
  },
  {
   "cell_type": "markdown",
   "id": "cb92bdc4-6fce-420d-8494-c203c03e270b",
   "metadata": {},
   "source": [
    "#### Exercise 4:\n",
    "Create an array of zeros (4×4) and replace diagonal with 1, 2, 3, 4."
   ]
  },
  {
   "cell_type": "code",
   "execution_count": 4,
   "id": "d886a584",
   "metadata": {},
   "outputs": [
    {
     "data": {
      "text/plain": [
       "array([[1., 0., 0., 0.],\n",
       "       [0., 2., 0., 0.],\n",
       "       [0., 0., 3., 0.],\n",
       "       [0., 0., 0., 4.]])"
      ]
     },
     "execution_count": 4,
     "metadata": {},
     "output_type": "execute_result"
    }
   ],
   "source": [
    "import numpy as np\n",
    "\n",
    "arr = np.zeros((4, 4))\n",
    "np.fill_diagonal(arr, [1, 2, 3, 4])\n",
    "\n",
    "arr"
   ]
  },
  {
   "cell_type": "markdown",
   "id": "6ffab3b0-6017-4f97-bfa2-4aa43a5a488e",
   "metadata": {},
   "source": [
    "#### Exercise 5:\n",
    "Simulate monthly revenue for 12 months and find: total revenue, best month, worst month.`m"
   ]
  },
  {
   "cell_type": "code",
   "execution_count": 5,
   "id": "add03737",
   "metadata": {},
   "outputs": [
    {
     "data": {
      "text/plain": [
       "(array([129126, 114921, 114391,  59891, 109843,  89568,  90149, 105601,\n",
       "         80884,  81464, 115041,  74986], dtype=int32),\n",
       " np.int64(1165865),\n",
       " np.int64(0),\n",
       " np.int64(3))"
      ]
     },
     "execution_count": 5,
     "metadata": {},
     "output_type": "execute_result"
    }
   ],
   "source": [
    "import numpy as np\n",
    "\n",
    "# Simulate monthly revenue (e.g., random integers between 50k and 150k)\n",
    "revenue = np.random.randint(50000, 150001, size=12)\n",
    "\n",
    "total_revenue = revenue.sum()\n",
    "best_month = revenue.argmax()  # index of max revenue (0-based)\n",
    "worst_month = revenue.argmin() # index of min revenue (0-based)\n",
    "\n",
    "revenue, total_revenue, best_month, worst_month"
   ]
  },
  {
   "cell_type": "markdown",
   "id": "e7152cf5-c4e2-420c-826d-9f1f7dcd0f33",
   "metadata": {},
   "source": [
    "#### Exercise 6:\n",
    "Create two arrays of size 2×3 and add them using broadcasting."
   ]
  },
  {
   "cell_type": "code",
   "execution_count": 6,
   "id": "36aaedfe",
   "metadata": {},
   "outputs": [
    {
     "data": {
      "text/plain": [
       "array([[11, 22, 33],\n",
       "       [44, 55, 66]])"
      ]
     },
     "execution_count": 6,
     "metadata": {},
     "output_type": "execute_result"
    }
   ],
   "source": [
    "import numpy as np\n",
    "\n",
    "a = np.array([[1, 2, 3],\n",
    "              [4, 5, 6]])\n",
    "\n",
    "b = np.array([[10, 20, 30],\n",
    "              [40, 50, 60]])\n",
    "\n",
    "result = a + b\n",
    "result"
   ]
  },
  {
   "cell_type": "markdown",
   "id": "c1a9b901-bdb8-499a-8365-4b4ad4b59ec7",
   "metadata": {},
   "source": [
    "#### Exercise 7:\n",
    "From an array [10,20,30,40,50,60], pick all elements >30 using Boolean indexing."
   ]
  },
  {
   "cell_type": "code",
   "execution_count": 7,
   "id": "6c10b7df",
   "metadata": {},
   "outputs": [
    {
     "data": {
      "text/plain": [
       "array([40, 50, 60])"
      ]
     },
     "execution_count": 7,
     "metadata": {},
     "output_type": "execute_result"
    }
   ],
   "source": [
    "import numpy as np\n",
    "\n",
    "arr = np.array([10, 20, 30, 40, 50, 60])\n",
    "result = arr[arr > 30]\n",
    "\n",
    "result"
   ]
  },
  {
   "cell_type": "markdown",
   "id": "0ff78391-a7a3-41d0-816c-0ec043c59deb",
   "metadata": {},
   "source": [
    "#### Exercise 8:\n",
    "Reshape an array of numbers 0–11 into a 3×4 matrix, then flatten it."
   ]
  },
  {
   "cell_type": "code",
   "execution_count": 8,
   "id": "19ae8131",
   "metadata": {},
   "outputs": [
    {
     "data": {
      "text/plain": [
       "(array([[ 0,  1,  2,  3],\n",
       "        [ 4,  5,  6,  7],\n",
       "        [ 8,  9, 10, 11]]),\n",
       " array([ 0,  1,  2,  3,  4,  5,  6,  7,  8,  9, 10, 11]))"
      ]
     },
     "execution_count": 8,
     "metadata": {},
     "output_type": "execute_result"
    }
   ],
   "source": [
    "import numpy as np\n",
    "\n",
    "arr = np.arange(12).reshape(3, 4)\n",
    "flattened = arr.flatten()\n",
    "\n",
    "arr, flattened"
   ]
  },
  {
   "cell_type": "markdown",
   "id": "652c3d11-0195-4bad-a716-c9cc8ac65934",
   "metadata": {},
   "source": [
    "#### Exercise 9:\n",
    "Create a random 2×5 array, compute sum, mean, max, min along rows and columns."
   ]
  },
  {
   "cell_type": "code",
   "execution_count": 9,
   "id": "9baab736",
   "metadata": {},
   "outputs": [
    {
     "data": {
      "text/plain": [
       "(array([[0.36202802, 0.42182668, 0.95155646, 0.60333917, 0.5058125 ],\n",
       "        [0.11882888, 0.88217845, 0.4505905 , 0.71655997, 0.60120444]]),\n",
       " array([2.84456283, 2.76936224]),\n",
       " array([0.48085691, 1.30400513, 1.40214696, 1.31989914, 1.10701694]),\n",
       " array([0.56891257, 0.55387245]),\n",
       " array([0.24042845, 0.65200256, 0.70107348, 0.65994957, 0.55350847]),\n",
       " array([0.95155646, 0.88217845]),\n",
       " array([0.36202802, 0.88217845, 0.95155646, 0.71655997, 0.60120444]),\n",
       " array([0.36202802, 0.11882888]),\n",
       " array([0.11882888, 0.42182668, 0.4505905 , 0.60333917, 0.5058125 ]))"
      ]
     },
     "execution_count": 9,
     "metadata": {},
     "output_type": "execute_result"
    }
   ],
   "source": [
    "import numpy as np\n",
    "\n",
    "arr = np.random.rand(2, 5)\n",
    "\n",
    "row_sum = arr.sum(axis=1)\n",
    "col_sum = arr.sum(axis=0)\n",
    "\n",
    "row_mean = arr.mean(axis=1)\n",
    "col_mean = arr.mean(axis=0)\n",
    "\n",
    "row_max = arr.max(axis=1)\n",
    "col_max = arr.max(axis=0)\n",
    "\n",
    "row_min = arr.min(axis=1)\n",
    "col_min = arr.min(axis=0)\n",
    "\n",
    "arr, row_sum, col_sum, row_mean, col_mean, row_max, col_max, row_min, col_min"
   ]
  },
  {
   "cell_type": "markdown",
   "id": "fc70c727-94d6-47e0-8e10-3a7d6b870824",
   "metadata": {},
   "source": [
    "#### Exercise 10:\n",
    "Simulate 3 years of daily temperatures (3×365), compute average temperature per year."
   ]
  },
  {
   "cell_type": "code",
   "execution_count": 10,
   "id": "9a30960d",
   "metadata": {},
   "outputs": [
    {
     "data": {
      "text/plain": [
       "(array([[23.55308316, 18.54588713, 26.94777886, ..., 26.92730625,\n",
       "         27.87651965, 33.85305997],\n",
       "        [ 5.7559409 , 10.65121726, -1.53359517, ..., 13.64072923,\n",
       "         17.46012266, 24.4157649 ],\n",
       "        [27.08024184, 24.4507139 , 19.35852176, ..., 27.10861885,\n",
       "          8.20591374, 39.76817944]], shape=(3, 365)),\n",
       " array([14.48864225, 16.03994627, 15.50175232]))"
      ]
     },
     "execution_count": 10,
     "metadata": {},
     "output_type": "execute_result"
    }
   ],
   "source": [
    "import numpy as np\n",
    "\n",
    "temps = np.random.uniform(low=-10, high=40, size=(3, 365))\n",
    "avg_per_year = temps.mean(axis=1)\n",
    "\n",
    "temps, avg_per_year"
   ]
  }
 ],
 "metadata": {
  "kernelspec": {
   "display_name": "Python 3",
   "language": "python",
   "name": "python3"
  },
  "language_info": {
   "codemirror_mode": {
    "name": "ipython",
    "version": 3
   },
   "file_extension": ".py",
   "mimetype": "text/x-python",
   "name": "python",
   "nbconvert_exporter": "python",
   "pygments_lexer": "ipython3",
   "version": "3.11.9"
  }
 },
 "nbformat": 4,
 "nbformat_minor": 5
}
